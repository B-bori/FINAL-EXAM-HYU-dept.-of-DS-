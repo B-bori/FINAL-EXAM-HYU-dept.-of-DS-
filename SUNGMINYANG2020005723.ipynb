{
  "nbformat": 4,
  "nbformat_minor": 0,
  "metadata": {
    "colab": {
      "name": "SUNGMINYANG2020005723.ipynb",
      "provenance": [],
      "collapsed_sections": []
    },
    "kernelspec": {
      "name": "python3",
      "display_name": "Python 3"
    }
  },
  "cells": [
    {
      "cell_type": "markdown",
      "metadata": {
        "id": "6wQqQJ3GbBLo",
        "colab_type": "text"
      },
      "source": [
        "#**This is for your Final Examination of both courses titled \"AI Basics\" and \" Python I\"**#\n",
        "\n",
        "All the results (incuding the codes, your written answers, and running outcomes) should be held in the same notebook. \n",
        "\n",
        "The Name of the notebook should be your name followed by your student ID (e.g., HokyoungBlakeRyu2020890653.ipynb)\n",
        "\n",
        "##*You should submit the notebook file in your GitHub, by the due date (no later than 23rd May, 12:00pm).*##\n",
        "\n",
        "**Evaluation points:** \n",
        "\n",
        "\n",
        "1.   Quality - How much your codes are working in general circumstances (Don't do any single hot coding) \n",
        "2.   Quality - Least use the built-in functions, wherever necessary (if you want to some built-in functions (e.g., inverse function of matrix), you need to make the two versions to compare them). You will use the build-in functions in your life time, so this examination is a last change to improve your programming skills.   \n",
        "3. Quality - The logic of programming would be significantly evaluated. Don't forget computational thinking. Your thinking process and that of computers are different.  \n",
        "4. The number of coding lines are nothing important, netiher whether you  find the correct answer or not. The main point of this examination, how much you think to solve the questions at your own efforts (I can see it when I have read your codes), so simply C&P from the internet sources would automatically fail to mark (However, you can refer to the internet sources but you need to fully absorb them in your understanding before you submit). \n",
        "\n"
      ]
    },
    {
      "cell_type": "markdown",
      "metadata": {
        "id": "NsXGV32B6yHX",
        "colab_type": "text"
      },
      "source": [
        "\n",
        "\n",
        "---\n",
        "\n"
      ]
    },
    {
      "cell_type": "markdown",
      "metadata": {
        "id": "UydSbgHwcBts",
        "colab_type": "text"
      },
      "source": [
        "Functions are often visualized as a line or (curvature) on a graph, and this line shows how the value returned by the function changes based on changes in the input value. For example, imagine a function that returns the number of meters travelled by a cyclist based on the number of seconds that the cyclist has been cycling.\n",
        "\n",
        "Here is such a function: \n",
        "\n",
        "\\begin{equation}q(x) = 2x^{2} + 1\\end{equation} \n",
        "\n",
        "\n",
        "#1. Plot the output for this function *q(x)* for a period of 10 seconds from range (0 sec to 10 secs)# "
      ]
    },
    {
      "cell_type": "markdown",
      "metadata": {
        "id": "mbAaNszqrWa4",
        "colab_type": "text"
      },
      "source": [
        "\n",
        "\n",
        "---\n",
        "\n"
      ]
    },
    {
      "cell_type": "code",
      "metadata": {
        "id": "k_cKAtE8dvO_",
        "colab_type": "code",
        "outputId": "bfc68b8b-05f0-41ee-b741-ca9185421df3",
        "colab": {
          "base_uri": "https://localhost:8080/",
          "height": 279
        }
      },
      "source": [
        "#Your Python code should appear here, followed by the plot\n",
        "\n",
        "from matplotlib import pyplot as plt\n",
        "import numpy as np\n",
        "\n",
        "x = np.arange(11)\n",
        "def q(x):\n",
        "  return 2*x**2+1\n",
        "plt.plot(x,q(x))\n",
        "plt.xlabel('time(s)')\n",
        "plt.ylabel('distance(m)')\n",
        "plt.show()"
      ],
      "execution_count": 0,
      "outputs": [
        {
          "output_type": "display_data",
          "data": {
            "image/png": "[encoded data removed]",
            "text/plain": [
              "<Figure size 432x288 with 1 Axes>"
            ]
          },
          "metadata": {
            "tags": [],
            "needs_background": "light"
          }
        }
      ]
    },
    {
      "cell_type": "markdown",
      "metadata": {
        "id": "O6HeizdLej-N",
        "colab_type": "text"
      },
      "source": [
        "\n",
        "\n",
        "---\n",
        "\n"
      ]
    },
    {
      "cell_type": "markdown",
      "metadata": {
        "id": "ZsDAys8Jd02o",
        "colab_type": "text"
      },
      "source": [
        "Velocity is a measure of change - it measures how the distance travelled changes over time. So we're looking for a way to measure the change in the line created by the function. \n",
        "\n",
        "#2. Calculate the velocity (2-1) between 1 sec to 2 secs, and (2-2) 5 secs and 7 secs. "
      ]
    },
    {
      "cell_type": "markdown",
      "metadata": {
        "id": "QasyFe1ErZI8",
        "colab_type": "text"
      },
      "source": [
        "\n",
        "\n",
        "---\n",
        "\n"
      ]
    },
    {
      "cell_type": "code",
      "metadata": {
        "id": "p4pHDwLIehZL",
        "colab_type": "code",
        "outputId": "3d07139c-b3b8-45b2-c80e-1f4603d1aad7",
        "colab": {
          "base_uri": "https://localhost:8080/",
          "height": 35
        }
      },
      "source": [
        "#Your code of (2-1) should appear here, followed by the answer \n",
        "\n",
        "x1=1\n",
        "x2=2\n",
        "def velocity(x1,x2):\n",
        "  return (q(x2)-q(x1))/(x2-x1)\n",
        "\n",
        "print(velocity(x1,x2))"
      ],
      "execution_count": 0,
      "outputs": [
        {
          "output_type": "stream",
          "text": [
            "6.0\n"
          ],
          "name": "stdout"
        }
      ]
    },
    {
      "cell_type": "markdown",
      "metadata": {
        "id": "nmQklhoKrcDa",
        "colab_type": "text"
      },
      "source": [
        "\n",
        "\n",
        "---\n",
        "\n"
      ]
    },
    {
      "cell_type": "code",
      "metadata": {
        "id": "xlnZFgBuerDD",
        "colab_type": "code",
        "outputId": "4bdf77ac-1062-4574-b3da-89d07dda6b17",
        "colab": {
          "base_uri": "https://localhost:8080/",
          "height": 35
        }
      },
      "source": [
        "#Your code of (2-2) should appear here, followed by the answer \n",
        "\n",
        "x1=5\n",
        "x2=7\n",
        "def velocity(x1,x2):\n",
        "  return (q(x2)-q(x1))/(x2-x1)\n",
        "\n",
        "print(velocity(x1,x2))"
      ],
      "execution_count": 0,
      "outputs": [
        {
          "output_type": "stream",
          "text": [
            "24.0\n"
          ],
          "name": "stdout"
        }
      ]
    },
    {
      "cell_type": "markdown",
      "metadata": {
        "id": "vtiHo6pZet7a",
        "colab_type": "text"
      },
      "source": [
        "\n",
        "\n",
        "---\n",
        "\n"
      ]
    },
    {
      "cell_type": "markdown",
      "metadata": {
        "id": "AAdbeVTPdtyl",
        "colab_type": "text"
      },
      "source": [
        "In differentiation, we need to use our knowledge of limits to calculate the derivative of a function in order to determine the rate of change at an individual point on a line. Here is our function: \n",
        "\n",
        "\\begin{equation}q(x) = 2x^{2} + 1\\end{equation} \n"
      ]
    },
    {
      "cell_type": "code",
      "metadata": {
        "id": "nvRtRl9Lf4Cx",
        "colab_type": "code",
        "colab": {}
      },
      "source": [
        "#running the following code \n",
        "\n",
        "%matplotlib inline\n",
        "\n",
        "# Here's the function\n",
        "def f(x):\n",
        "    return 2*x**2 + 1 \n"
      ],
      "execution_count": 0,
      "outputs": []
    },
    {
      "cell_type": "markdown",
      "metadata": {
        "id": "SDspFCiPf_GK",
        "colab_type": "text"
      },
      "source": [
        "The average rate of change for the interval between x=4 and x=6 is **20**. "
      ]
    },
    {
      "cell_type": "markdown",
      "metadata": {
        "id": "6Dn9UXe_hyWX",
        "colab_type": "text"
      },
      "source": [
        "If the interval is decreasing the average rate of change would be also changed. \n",
        "\n",
        "#3. Write a Python program to calculate the average rate of change for the interval between x and x+h (where h gets smaller and smaller), with regard to how the average rate of change would be close to the derivative of q(x) "
      ]
    },
    {
      "cell_type": "markdown",
      "metadata": {
        "id": "LQ8CmJ0-rjOQ",
        "colab_type": "text"
      },
      "source": [
        "\n",
        "\n",
        "---\n",
        "\n"
      ]
    },
    {
      "cell_type": "code",
      "metadata": {
        "id": "dyYx7kfyWsdS",
        "colab_type": "code",
        "outputId": "0ed95897-4176-43d2-f530-22a026511d53",
        "colab": {
          "base_uri": "https://localhost:8080/",
          "height": 714
        }
      },
      "source": [
        "#Your code of Question #3 should appear here \n",
        "\n",
        "from sympy import *\n",
        "\n",
        "x = Symbol('x')\n",
        "H=symbols('H')\n",
        "\n",
        "\n",
        "\n",
        "\n",
        "def q(x):\n",
        "    return 2*x**2 + 1\n",
        "\n",
        "def q_avg(x):\n",
        "  return (q(x+H)-q(x))/H\n",
        "\n",
        "qd = limit(q_avg(x),H,0)      # qd is actual derivative of q(x)\n",
        "\n",
        "\n",
        "\n",
        "\n",
        "h = float(input())\n",
        "\n",
        "for i in range(10):\n",
        "  q_diff = simplify((q(x+h)-q(x))/h)\n",
        "  print(\"h:\", h)\n",
        "  print(\"approximate derivative of q(x):\",q_diff)\n",
        "  print(\"The gap between approximated, and actual derivative of q(x) is:\", abs(q_diff - qd))\n",
        "  print()\n",
        "  h = h/2"
      ],
      "execution_count": 0,
      "outputs": [
        {
          "output_type": "stream",
          "text": [
            "1\n",
            "h: 1.0\n",
            "approximate derivative of q(x): 4.0*x + 2.0\n",
            "The gap between approximated, and actual derivative of q(x) is: 2.00000000000000\n",
            "\n",
            "h: 0.5\n",
            "approximate derivative of q(x): 4.0*x + 1.0\n",
            "The gap between approximated, and actual derivative of q(x) is: 1.00000000000000\n",
            "\n",
            "h: 0.25\n",
            "approximate derivative of q(x): 4.0*x + 0.5\n",
            "The gap between approximated, and actual derivative of q(x) is: 0.500000000000000\n",
            "\n",
            "h: 0.125\n",
            "approximate derivative of q(x): 4.0*x + 0.25\n",
            "The gap between approximated, and actual derivative of q(x) is: 0.250000000000000\n",
            "\n",
            "h: 0.0625\n",
            "approximate derivative of q(x): 4.0*x + 0.125\n",
            "The gap between approximated, and actual derivative of q(x) is: 0.125000000000000\n",
            "\n",
            "h: 0.03125\n",
            "approximate derivative of q(x): 4.0*x + 0.0625\n",
            "The gap between approximated, and actual derivative of q(x) is: 0.0625000000000000\n",
            "\n",
            "h: 0.015625\n",
            "approximate derivative of q(x): 4.0*x + 0.03125\n",
            "The gap between approximated, and actual derivative of q(x) is: 0.0312500000000000\n",
            "\n",
            "h: 0.0078125\n",
            "approximate derivative of q(x): 4.0*x + 0.015625\n",
            "The gap between approximated, and actual derivative of q(x) is: 0.0156250000000000\n",
            "\n",
            "h: 0.00390625\n",
            "approximate derivative of q(x): 4.0*x + 0.0078125\n",
            "The gap between approximated, and actual derivative of q(x) is: 0.00781250000000000\n",
            "\n",
            "h: 0.001953125\n",
            "approximate derivative of q(x): 4.0*x + 0.00390625\n",
            "The gap between approximated, and actual derivative of q(x) is: 0.00390625000000000\n",
            "\n"
          ],
          "name": "stdout"
        }
      ]
    },
    {
      "cell_type": "markdown",
      "metadata": {
        "id": "XZ7zDc2NiwYd",
        "colab_type": "text"
      },
      "source": [
        "\n",
        "\n",
        "---\n",
        "\n"
      ]
    },
    {
      "cell_type": "markdown",
      "metadata": {
        "id": "PlT17AccXqgb",
        "colab_type": "text"
      },
      "source": [
        ""
      ]
    },
    {
      "cell_type": "markdown",
      "metadata": {
        "id": "lWkh3UVFiyE4",
        "colab_type": "text"
      },
      "source": [
        "The *chain rule* takes advantage of the fact that equations can be encapsulated as functions, and since functions contain equations, it's possible to nest one function within another.\n",
        "\n",
        "For example, consider the following function:\n",
        "\n",
        "\\begin{equation}u(x) = 2x^{2} \\end{equation}\n",
        "\n",
        "We could view the definition of *u(x)* as a composite of two functions,; an *inner* function that calculates x<sup>2</sup>, and an *outer* function that multiplies the result of the inner function by 2.\n",
        "\n",
        "\\begin{equation}u(x) = \\widehat{\\color{blue}2\\color{blue}(\\underline{\\color{red}x^{\\color{red}2}}\\color{blue})} \\end{equation}\n",
        "\n",
        "To make things simpler, we can name these inner and outer functions:\n",
        "\n",
        "\\begin{equation}i(x) = x^{2} \\end{equation}\n",
        "\n",
        "\\begin{equation}o(x) = 2x \\end{equation}\n",
        "\n",
        "Note that *x* indicates the input for each function. Function *i* takes its input and squares it, and function *o* takes its input and multiplies it by 2. When we use these as a composite function, the *x* value input into the outer function will be the output from the inner function.\n",
        "\n",
        "Let's take a look at how we can apply these functions to get back to our original *u* function:\n",
        "\n",
        "\\begin{equation}u(x) = o(i(x)) \\end{equation}\n",
        "\n",
        "So first we need to find the output of the inner *i* function so we can use at as the input value for the outer *o* function. Well, that's easy, we know the definition of *i* (square the input), so we can just plug it in:\n",
        "\n",
        "\\begin{equation}u(x) = o(x^{2}) \\end{equation}\n",
        "\n",
        "We also know the definition for the outer *o* function (multiply the input by 2), so we can just apply that to the input:\n",
        "\n",
        "\\begin{equation}u(x) = 2x^{2} \\end{equation}\n",
        "\n",
        "OK, so now we know how to form a composite function. The *chain rule* can be stated like this:\n",
        "\n",
        "\\begin{equation}\\frac{d}{dx}[o(i(x))] = o'(i(x)) \\cdot i'(x)\\end{equation}\n",
        "\n",
        "Alright, let's start by plugging the output of the inner *i(x)* function in:\n",
        "\n",
        "\\begin{equation}\\frac{d}{dx}[o(i(x))] = o'(x^{2}) \\cdot i'(x)\\end{equation}\n",
        "\n",
        "Which when we cancel out the 2x<sup>2</sup> and -2x<sup>2</sup>,is:\n",
        "\n",
        "\\begin{equation}o'(x) = \\lim_{h \\to 0} \\frac{2h}{h} \\end{equation}\n",
        "\n",
        "Which simplifies to:\n",
        "\n",
        "\\begin{equation}o'(x) = 2 \\end{equation}\n",
        "\\begin{equation}i'(x) = 2x \\end{equation}\n",
        "\n",
        "So our equation at this point is:\n",
        "\n",
        "\\begin{equation}\\frac{d}{dx}[o(i(x))] = 2 \\cdot 2x\\end{equation}\n",
        "\n",
        "In this case, we can take our equation:\n",
        "\n",
        "\\begin{equation}\\frac{d}{dx}[o(i(x))] = o'(i(x)) \\cdot i'(x)\\end{equation}\n",
        "\n",
        "and rewrite it as \n",
        "\n",
        "\\begin{equation}\\frac{du}{dx} = \\frac{do}{di}\\frac{di}{dx}\\end{equation}\n",
        "\n",
        "We can then complete the calculations like this:\n",
        "\n",
        "\\begin{equation}\\frac{du}{dx} = 2 \\cdot 2x = 4x\\end{equation}\n",
        "\n",
        "Execute the following code: "
      ]
    },
    {
      "cell_type": "code",
      "metadata": {
        "id": "r3MnqOC4mA23",
        "colab_type": "code",
        "colab": {}
      },
      "source": [
        "#running the following code \n",
        "\n",
        "%matplotlib inline\n",
        "\n",
        "# Here's the function\n",
        "def g(x):\n",
        "    return 2*x**(-2) - x "
      ],
      "execution_count": 0,
      "outputs": []
    },
    {
      "cell_type": "markdown",
      "metadata": {
        "id": "SDO_UJPij9dE",
        "colab_type": "text"
      },
      "source": [
        "#4. Write a Python program to \n",
        "\n",
        "\\begin{equation}\\frac{d}{dx}[f(g(x))] \\end{equation}, and \n",
        "\n",
        "\\begin{equation}\\frac{d}{dx}[g(f(x))] \\end{equation}, resepectively.  \n"
      ]
    },
    {
      "cell_type": "markdown",
      "metadata": {
        "id": "b6RR2w_bn2Pa",
        "colab_type": "text"
      },
      "source": [
        "\n",
        "  \n",
        "---\n",
        "\n"
      ]
    },
    {
      "cell_type": "code",
      "metadata": {
        "id": "iBI6MI6OrOZc",
        "colab_type": "code",
        "outputId": "c3f9b431-7bd9-49fd-f117-cdf6c10be9ba",
        "colab": {
          "base_uri": "https://localhost:8080/",
          "height": 102
        }
      },
      "source": [
        "#Your code of Question #4 should appear here \n",
        "\n",
        "from sympy import *\n",
        "x=symbols('x')\n",
        "\n",
        "f_ = eval(input(\"f(x)= \"))\n",
        "g_ = eval(input(\"g(x)= \"))\n",
        "print()\n",
        "\n",
        "def f(a):\n",
        "  return f_.subs(x,a)\n",
        "\n",
        "def g(a):\n",
        "  return g_.subs(x,a)\n",
        "\n",
        "fd = f_.diff(x)\n",
        "gd = g_.diff(x)\n",
        "\n",
        "def f_diff(a):\n",
        "  return fd.subs(x,a)\n",
        "\n",
        "def g_diff(a):\n",
        "  return gd.subs(x,a)\n",
        "\n",
        "# derivative of f circle g\n",
        "\n",
        "f_g = f_diff(g(x)) * g_diff(x)\n",
        "print(\"the derivative wrt x of f(g(x))=\",f_g)\n",
        "\n",
        "# derivative of g circle f\n",
        "\n",
        "g_f = g_diff(f(x)) * f_diff(x)\n",
        "print(\"the derivative wrt x of g(f(x))=\",g_f)"
      ],
      "execution_count": 0,
      "outputs": [
        {
          "output_type": "stream",
          "text": [
            "f(x)= 2*x**2 + 1\n",
            "g(x)= 2*x**(-2) - x\n",
            "\n",
            "the derivative wrt x of f(g(x))= (-1 - 4/x**3)*(-4*x + 8/x**2)\n",
            "the derivative wrt x of g(f(x))= 4*x*(-1 - 4/(2*x**2 + 1)**3)\n"
          ],
          "name": "stdout"
        }
      ]
    },
    {
      "cell_type": "markdown",
      "metadata": {
        "id": "bs6xv54g93h-",
        "colab_type": "text"
      },
      "source": [
        "In here you might add up your written accounts as to why the two results are different. "
      ]
    },
    {
      "cell_type": "markdown",
      "metadata": {
        "id": "RAadu-NN9_qN",
        "colab_type": "text"
      },
      "source": [
        "[Add your written accounts]\n",
        "\n",
        "The results are different because inner function and the outer function are different between f(g(x)) and g(f(x)). \n",
        "\n",
        "As for f(g(x)), the outer function f(x), takes g(x) - which returns evaluated output when taking x as its input as its input, and g(f(x)) however, the outer function g(x) takes the evaluated value of f(x) in as its input. \n",
        "\n",
        "If one of f(x) and g(x) was identity function or f(x) were the inverse function of g(x), we might have the same results in f(g(x)) and g(f(x)), but knowing that f(x) and g(x) don't fit to neither of them, it is self-evident that the two results are completely different. "
      ]
    },
    {
      "cell_type": "markdown",
      "metadata": {
        "id": "7ZBeidKvrR-1",
        "colab_type": "text"
      },
      "source": [
        "\n",
        "\n",
        "---\n",
        "\n"
      ]
    },
    {
      "cell_type": "markdown",
      "metadata": {
        "id": "_sHoK3S0ooTA",
        "colab_type": "text"
      },
      "source": [
        "Now consider the following function, which represents the number of flowers growing in a flower bed before and after the spraying of a fertilizer:\n",
        "\n",
        "\\begin{equation}w(x) = x^{2} + 2x + 7 \\end{equation}"
      ]
    },
    {
      "cell_type": "markdown",
      "metadata": {
        "id": "PvcJinmMpGGj",
        "colab_type": "text"
      },
      "source": [
        "Execute the following code "
      ]
    },
    {
      "cell_type": "code",
      "metadata": {
        "id": "Ortb5cx8pJwT",
        "colab_type": "code",
        "outputId": "a0745089-e320-43e4-a9f6-98f127d6e263",
        "colab": {
          "base_uri": "https://localhost:8080/",
          "height": 279
        }
      },
      "source": [
        "%matplotlib inline\n",
        "\n",
        "# Create function w\n",
        "def w(x):\n",
        "    return (x**2) + (2*x) + 7\n",
        "\n",
        "def wd(x):\n",
        "    return 2*x + 2\n",
        "\n",
        "from matplotlib import pyplot as plt\n",
        "\n",
        "# Create an array of x values to plot\n",
        "x = list(range(-10, 11))\n",
        "\n",
        "# Use the function to get the y values\n",
        "y = [w(i) for i in x]\n",
        "\n",
        "# Use the derivative function to get the derivative values\n",
        "yd = [wd(i) for i in x]\n",
        "\n",
        "# Set up the graph\n",
        "plt.xlabel('x (time in days)')\n",
        "plt.ylabel('w(x) (flowers)')\n",
        "plt.xticks(range(-10,15, 1))\n",
        "plt.yticks(range(-200, 500, 20))\n",
        "plt.grid()\n",
        "\n",
        "# Plot the function\n",
        "plt.plot(x,y, color='green')\n",
        "\n",
        "# Plot the derivative\n",
        "plt.plot(x,yd, color='purple')\n",
        "\n",
        "plt.show()"
      ],
      "execution_count": 0,
      "outputs": [
        {
          "output_type": "display_data",
          "data": {
            "image/png": "[encoded data removed]",
            "text/plain": [
              "<Figure size 432x288 with 1 Axes>"
            ]
          },
          "metadata": {
            "tags": [],
            "needs_background": "light"
          }
        }
      ]
    },
    {
      "cell_type": "markdown",
      "metadata": {
        "id": "Z2s6SurnpNVZ",
        "colab_type": "text"
      },
      "source": [
        "The green line represents the function, showing the number of flowers for 10 days before and after the fertilizer treatment. Before treatment, the number of flowers was in decline, and after treatment the flower bed started to recover.\n",
        "\n",
        "The derivative function is shown in purple, and once again shows a linear change in slope. This time, the slope is increasing at a constant rate; and once again, the derivative function line crosses 0 at the lowest point in the function line (in other words, the slope changed from negative to positive when the flowers started to recover)."
      ]
    },
    {
      "cell_type": "markdown",
      "metadata": {
        "id": "P6ZaqSwYpVgK",
        "colab_type": "text"
      },
      "source": [
        "From what we've solved so far, it seems that there is a relationship between a function reaching an extreme value (a maximum or a minimum), and a derivative value of 0. This makes intuitive sense; the derivative represents the slope of the line, so when a function changes from a negative slope to a positive slope, or vice-versa, the derivative must pass through 0."
      ]
    },
    {
      "cell_type": "markdown",
      "metadata": {
        "id": "Vc1px3cfpkPw",
        "colab_type": "text"
      },
      "source": [
        "#5. Write a Python code to display that simply a derivative value equals to 0 does not guarantee the minimum or maximum of the function.  \n",
        "for example,  \\begin{equation}v(x) = x^{3} - 2x + 100 \\end{equation}  \n"
      ]
    },
    {
      "cell_type": "markdown",
      "metadata": {
        "id": "y-rdqITsrsGh",
        "colab_type": "text"
      },
      "source": [
        "\n",
        "\n",
        "---\n",
        "\n"
      ]
    },
    {
      "cell_type": "code",
      "metadata": {
        "id": "P-LzhBg8nz4J",
        "colab_type": "code",
        "outputId": "00a9c461-e127-4a09-a713-743eff0ef81c",
        "colab": {
          "base_uri": "https://localhost:8080/",
          "height": 313
        }
      },
      "source": [
        "#Your code of question 5 should appear here\n",
        "\n",
        "from sympy import *\n",
        "import matplotlib.pyplot as plt\n",
        "import numpy as np\n",
        "\n",
        "x=symbols('x')\n",
        "v_ = x**3-2*x+100\n",
        "\n",
        "def v(a):\n",
        "  return v_.subs(x,a)\n",
        "\n",
        "vd = v_.diff(x)\n",
        "x1,x2 = solve(vd,x)\n",
        "\n",
        "# v(x1) and v(x2) might be relative maximum and minium respectively\n",
        "\n",
        "tmp = x1-50\n",
        "\n",
        "while True:\n",
        "  tmp += 1\n",
        "  \n",
        "  if (v(tmp)-v(x1)) > 0:\n",
        "    print(\"v(x1) is not the maximum of the function\")\n",
        "    break\n",
        "  \n",
        "tmp = x2+50\n",
        "\n",
        "while True:\n",
        "  tmp -= 1\n",
        "  \n",
        "  if (v(tmp)-v(x2)) < 0:\n",
        "    print(\"v(x1) is not the minimum of the function\")\n",
        "    break\n",
        "\n",
        "a = np.arange(-2,2.1,0.1)\n",
        "b = a**3-2*a+100\n",
        "\n",
        "plt.plot(a,b)\n",
        "plt.xlabel('x')\n",
        "plt.ylabel('y')\n",
        "plt.scatter(x1, v(x1), color = 'r')\n",
        "plt.scatter(x2, v(x2), color = 'r')\n",
        "plt.show()"
      ],
      "execution_count": 33,
      "outputs": [
        {
          "output_type": "stream",
          "text": [
            "v(x1) is not the maximum of the function\n",
            "v(x1) is not the minimum of the function\n"
          ],
          "name": "stdout"
        },
        {
          "output_type": "display_data",
          "data": {
            "image/png": "[encoded data removed]",
            "text/plain": [
              "<Figure size 432x288 with 1 Axes>"
            ]
          },
          "metadata": {
            "tags": [],
            "needs_background": "light"
          }
        }
      ]
    },
    {
      "cell_type": "markdown",
      "metadata": {
        "id": "fqXD5MUDr1B_",
        "colab_type": "text"
      },
      "source": [
        "Consider the derivatives of a function like the following: \n",
        "\n",
        "$$f(x,y) = x^2 + y^2$$\n",
        "\n",
        "We can take a derivative of the changes in the function with respect to either x or y.  Let's give this a try by taking the derivative of $f(x,y)$ with respect to ***x***. We write this partial derivative as follows.\n",
        "\n",
        "$$\\frac{\\partial f(x,y)}{\\partial x} = \\frac{\\partial (x^2 + y^2)}{\\partial x}$$\n",
        "\n",
        "The partial derivatives find the analog of the slope for multi-dimensional surfaces. We call this qunatity the gradient. The partial derivatives of the $$f(x,y)$$ can be written in a 2 dimensional vector of the change of the function\n",
        "$$grad(f(x,y)) = \\begin{bmatrix}\\frac{\\partial f(x,y)}{\\partial x} \\\\ \\frac{\\partial f(x,y)}{\\partial y} \\end{bmatrix} = \\begin{bmatrix}2x \\\\ 2y \\end{bmatrix} $$\n",
        "\n",
        "\n"
      ]
    },
    {
      "cell_type": "markdown",
      "metadata": {
        "id": "m2zT4J7Fs_ka",
        "colab_type": "text"
      },
      "source": [
        "#6. Write a Python code to generate the 2-dimensional gradient vector $$f(x,y) = x^2 + y^2 $$"
      ]
    },
    {
      "cell_type": "markdown",
      "metadata": {
        "id": "JuyqiOaDtlJI",
        "colab_type": "text"
      },
      "source": [
        "\n",
        "\n",
        "---\n",
        "\n"
      ]
    },
    {
      "cell_type": "code",
      "metadata": {
        "id": "ljZEVgBSs-zL",
        "colab_type": "code",
        "outputId": "74848863-a6a4-4fe8-d4cc-39f4f47af9ef",
        "colab": {
          "base_uri": "https://localhost:8080/",
          "height": 51
        }
      },
      "source": [
        "#Your code of Question 6 should appear here \n",
        "\n",
        "import math\n",
        "from sympy import *\n",
        "import numpy as np\n",
        "\n",
        "x=Symbol('x')\n",
        "y=Symbol('y')\n",
        "f=x**2+y**2\n",
        "J1=diff(f,x)\n",
        "J2=diff(f,y)\n",
        "Jacobian=list([[J1],[J2]])\n",
        "print(np.array(Jacobian))"
      ],
      "execution_count": 41,
      "outputs": [
        {
          "output_type": "stream",
          "text": [
            "[[2*x]\n",
            " [2*y]]\n"
          ],
          "name": "stdout"
        }
      ]
    },
    {
      "cell_type": "markdown",
      "metadata": {
        "id": "eozy2A2Qtrmv",
        "colab_type": "text"
      },
      "source": [
        "\n",
        "\n",
        "---\n",
        "\n"
      ]
    },
    {
      "cell_type": "markdown",
      "metadata": {
        "id": "aAzrj7E6uHOw",
        "colab_type": "text"
      },
      "source": [
        "All you have to do with this gradient vector would direct to find the minimum of the function $$𝑓(𝑥,𝑦)=𝑥^2+𝑦^2$$ \n",
        "It is easy to see that the minimum of this function is at 𝑥=0  and  𝑦=0. \n",
        "\n",
        "But, what if you did not know the solution of the n-dimensional problem (which your data would be normally more than 100 dimensions)?\n",
        "\n",
        "Then the Gradient Descent Method could be applicable as follows:\n",
        "\n",
        "1. Compute the gradient.\n",
        "2. Take a small step in the direction of the gradient.\n",
        "3. Determine if the gradient is close to zero. If so, then stop, since the gradient will be zero at the minimum.\n",
        "4. Repeate steps 2, 3 and 4.\n",
        "\n",
        "The algorithm outlined above is called the gradient decent method. It is the basis of many real-world minimization algorithms."
      ]
    },
    {
      "cell_type": "markdown",
      "metadata": {
        "id": "dfIreKC9ttZK",
        "colab_type": "text"
      },
      "source": [
        "#7. Implement a Gradient descent method (with Python), so to find the optimal minimal solution $$𝑓(𝑥,𝑦,z)= (𝑥-3)^2 + (𝑦-2)^2 + (z-5)^2 $$\n",
        "Please extend the code from Question 6.  "
      ]
    },
    {
      "cell_type": "markdown",
      "metadata": {
        "id": "OK8Ep_K9vqpl",
        "colab_type": "text"
      },
      "source": [
        "\n",
        "\n",
        "---\n",
        "\n"
      ]
    },
    {
      "cell_type": "code",
      "metadata": {
        "id": "3By9FAhKj30L",
        "colab_type": "code",
        "outputId": "63db914e-ccd0-4032-e5c4-e1d439e278bf",
        "colab": {
          "base_uri": "https://localhost:8080/",
          "height": 187
        }
      },
      "source": [
        "#Your coide for Question 7 should appear here. \n",
        "\n",
        "from sympy import *\n",
        "from numpy import array\n",
        "\n",
        "x,y,z = symbols(\"x, y, z\")\n",
        "\n",
        "# Setting starting point\n",
        "a = float(input(\"a:\"))\n",
        "b = float(input(\"b:\"))\n",
        "c = float(input(\"c:\"))\n",
        "print()\n",
        "tol = float(input())\n",
        "r = float(input()) # r is stepsize\n",
        "print()\n",
        "\n",
        "def f(x,y,z):\n",
        "  return (x-3)**2 + (y-2)**2 + (z-5)**2\n",
        "\n",
        "def gradient(f):\n",
        "  return array([diff(f(x,y,z),x), diff(f(x,y,z),y), diff(f(x,y,z),z)])\n",
        "\n",
        "def GD(f,r): \n",
        "  A = [a,b,c]\n",
        "  B = [x,y,z]\n",
        "\n",
        "  while True:\n",
        "\n",
        "    for i in range(3):\n",
        "      A[i] -= r * gradient(f)[i].subs(B[i],A[i])\n",
        "\n",
        "    if (abs(gradient(f)[0].subs(B[0],A[0])) < tol and abs(gradient(f)[1].subs(B[1],A[1])) < tol and abs(gradient(f)[2].subs(B[2],A[2])) < tol):\n",
        "      print(\"The Optimal Minimal Solution = x: {} y: {} z: {}\".format(A[0], A[1], A[2]))\n",
        "      print(\"The Optimal Minium is\", simplify(f(A[0], A[1], A[2])))\n",
        "      break\n",
        "\n",
        "print(GD(f,r))"
      ],
      "execution_count": 48,
      "outputs": [
        {
          "output_type": "stream",
          "text": [
            "a:-10\n",
            "b:9\n",
            "c:1\n",
            "\n",
            "0.000001\n",
            "0.1\n",
            "\n",
            "The Optimal Minimal Solution = x: 2.99999955138649 y: 2.00000024156112 z: 4.99999986196507\n",
            "The Optimal Minium is 2.78659500379520e-13\n",
            "None\n"
          ],
          "name": "stdout"
        }
      ]
    },
    {
      "cell_type": "markdown",
      "metadata": {
        "id": "PMl9cHnQvsOf",
        "colab_type": "text"
      },
      "source": [
        "\n",
        "\n",
        "---\n",
        "\n"
      ]
    },
    {
      "cell_type": "markdown",
      "metadata": {
        "id": "sgWoxRBrvuXl",
        "colab_type": "text"
      },
      "source": [
        "#8. Apply the Gradient Descent Method (from Question 7) to find the optimal minimal point of the following function (you need to use the chain rule from Question 4)  \n",
        "\n",
        "## $$ w(x) = f(g(h(k(x)))) $$\n",
        "\n",
        "where, \n",
        "$$ f(x) = log(g(x)) $$\n",
        "$$ g(x) = e^{h(x)} $$\n",
        "$$ h(x) = 2x^2+k(x) $$\n",
        "$$ k(x) = 5x-1 $$\n",
        "\n",
        "\n"
      ]
    },
    {
      "cell_type": "code",
      "metadata": {
        "id": "2UUt0K_ZQrrg",
        "colab_type": "code",
        "colab": {
          "base_uri": "https://localhost:8080/",
          "height": 85
        },
        "outputId": "228701e3-a7c6-4f8e-ab6f-3f5764f3be7c"
      },
      "source": [
        "# Your answer of Question #8 should appear here. \n",
        "\n",
        "from sympy import *\n",
        "\n",
        "x = symbols(\"x\")\n",
        "\n",
        "# initial value\n",
        "a = float(input(\"initial value: \"))\n",
        "\n",
        "# stepsize\n",
        "s = float(input(\"stepsize: \"))\n",
        "\n",
        "print()\n",
        "\n",
        "\n",
        "def f(x):\n",
        "  return log(g(x))\n",
        "\n",
        "def g(x):\n",
        "  return exp(h(x))\n",
        "\n",
        "def h(x):\n",
        "  return 2*x**2+k(x)\n",
        "\n",
        "def k(x):\n",
        "  return 5*x-1\n",
        "\n",
        "\n",
        "\n",
        "\n",
        "''' Derivative '''\n",
        "\n",
        "def fd(a):\n",
        "  return diff(f(x),x).subs(x,a)\n",
        "\n",
        "def gd(a):\n",
        "  return diff(g(x),x).subs(x,a)\n",
        "\n",
        "def hd(a):\n",
        "  return diff(h(x),x).subs(x,a)\n",
        "\n",
        "def kd(a):\n",
        "  return diff(k(x),x).subs(x,a)\n",
        "\n",
        "prime = fd(g(h(k(x)))) * gd(h(k(x))) * hd(k(x)) * kd(x)\n",
        "\n",
        "\n",
        "def GD(t): \n",
        "  L = []\n",
        "  for i in range(100):\n",
        "    if(prime.subs(x,t) >= 0):\n",
        "      if(prime.subs(x,t-s) < 0):\n",
        "        L.append(t)\n",
        "        t -= 1\n",
        "      t -= s\n",
        "    else:\n",
        "      t += s\n",
        "  return L\n",
        "print(GD(a))"
      ],
      "execution_count": 5,
      "outputs": [
        {
          "output_type": "stream",
          "text": [
            "initial value: 0\n",
            "stepsize: 0.01\n",
            "\n",
            "[0.19000000000000003, -0.27999999999999947]\n"
          ],
          "name": "stdout"
        }
      ]
    },
    {
      "cell_type": "markdown",
      "metadata": {
        "id": "usA8C38Ax-0e",
        "colab_type": "text"
      },
      "source": [
        "\n",
        "\n",
        "---\n",
        "\n"
      ]
    },
    {
      "cell_type": "markdown",
      "metadata": {
        "id": "exIfYKkxyBWz",
        "colab_type": "text"
      },
      "source": [
        "In general terms, a matrix is an array of numbers that are arranged into rows and columns.\n",
        "\n",
        "## Matrices and Matrix Notation\n",
        "A matrix arranges numbers into rows and columns, like this:\n",
        "\n",
        "\\begin{equation}A = \\begin{bmatrix}\n",
        "  1 & 2 & 3 \\\\\n",
        "  4 & 5 & 6\n",
        " \\end{bmatrix}\n",
        "\\end{equation}\n",
        "\n",
        "Note that matrices are generally named as a capital letter. We refer to the *elements* of the matrix using the lower case equivalent with a subscript row and column indicator, like this:\n",
        "\n",
        "\\begin{equation}A = \\begin{bmatrix}\n",
        "  a_{1,1} & a_{1,2} & a_{1,3} \\\\\n",
        "  a_{2,1} & a_{2,2} & a_{2,3}\n",
        " \\end{bmatrix}\n",
        "\\end{equation}\n",
        "\n",
        "In Python, you can define a matrix as a 2-dimensional *numpy.**array***, like this:"
      ]
    },
    {
      "cell_type": "code",
      "metadata": {
        "id": "spkSUnLSypZN",
        "colab_type": "code",
        "colab": {}
      },
      "source": [
        "#execute the following code "
      ],
      "execution_count": 0,
      "outputs": []
    },
    {
      "cell_type": "code",
      "metadata": {
        "id": "GP07NxTEyseD",
        "colab_type": "code",
        "outputId": "4e2566e5-90e4-4ed5-f641-a81090c835dd",
        "colab": {
          "base_uri": "https://localhost:8080/",
          "height": 52
        }
      },
      "source": [
        "import numpy as np\n",
        "\n",
        "A = np.array([[1,2,3],\n",
        "              [4,5,6]])\n",
        "print (A)"
      ],
      "execution_count": 0,
      "outputs": [
        {
          "output_type": "stream",
          "text": [
            "[[1 2 3]\n",
            " [4 5 6]]\n"
          ],
          "name": "stdout"
        }
      ]
    },
    {
      "cell_type": "markdown",
      "metadata": {
        "id": "uO45EtgXyzJv",
        "colab_type": "text"
      },
      "source": [
        "You can also use the numpy.matrix type, which is a specialist subclass of array:"
      ]
    },
    {
      "cell_type": "code",
      "metadata": {
        "id": "21o9S4Z_yua4",
        "colab_type": "code",
        "colab": {}
      },
      "source": [
        "#execute the following code "
      ],
      "execution_count": 0,
      "outputs": []
    },
    {
      "cell_type": "code",
      "metadata": {
        "id": "yV2vSAw9y8nW",
        "colab_type": "code",
        "outputId": "c08d9bae-9928-4fba-a39c-0409970af8ca",
        "colab": {
          "base_uri": "https://localhost:8080/",
          "height": 52
        }
      },
      "source": [
        "import numpy as np\n",
        "\n",
        "M = np.matrix([[1,2,3],\n",
        "               [4,5,6]])\n",
        "print(M)"
      ],
      "execution_count": 0,
      "outputs": [
        {
          "output_type": "stream",
          "text": [
            "[[1 2 3]\n",
            " [4 5 6]]\n"
          ],
          "name": "stdout"
        }
      ]
    },
    {
      "cell_type": "markdown",
      "metadata": {
        "id": "fq6rxElXzCfJ",
        "colab_type": "text"
      },
      "source": [
        "#9. You now have the 2-dimensional gradient vector from Question 6. Create a matrix to hold the gradient values of the following two points \n",
        "\n",
        "(x<sub>1</sub>, y<sub>1</sub>) = (1,3), (x<sub>2</sub>, y<sub>2</sub>) = (-1,-3) "
      ]
    },
    {
      "cell_type": "code",
      "metadata": {
        "id": "Mys1bU-L0o6Y",
        "colab_type": "code",
        "outputId": "1cab863a-09bd-4c8c-b9bc-b5a38eded779",
        "colab": {
          "base_uri": "https://localhost:8080/",
          "height": 51
        }
      },
      "source": [
        "#Your code of question 9 should be here \n",
        "\n",
        "from sympy import *\n",
        "import numpy as np\n",
        "\n",
        "x = Symbol('x')\n",
        "y = Symbol('y')\n",
        "f = x**2+y**2\n",
        "J1_1 = diff(f,x).subs(x,1)\n",
        "J1_2 = diff(f,y).subs(y,3)\n",
        "J2_1 = diff(f,x).subs(x,-1)\n",
        "J2_2 = diff(f,y).subs(y,-3)\n",
        "M1 = np.matrix([J1_1,J1_2])\n",
        "M2 = np.matrix([J2_1,J2_2])\n",
        "\n",
        "M = np.vstack([M1, M2])\n",
        "print(M)"
      ],
      "execution_count": 6,
      "outputs": [
        {
          "output_type": "stream",
          "text": [
            "[[2 6]\n",
            " [-2 -6]]\n"
          ],
          "name": "stdout"
        }
      ]
    },
    {
      "cell_type": "markdown",
      "metadata": {
        "id": "e6Lt48wF0uiQ",
        "colab_type": "text"
      },
      "source": [
        "\n",
        "\n",
        "---\n",
        "\n"
      ]
    },
    {
      "cell_type": "markdown",
      "metadata": {
        "id": "YuLsawK_0xfE",
        "colab_type": "text"
      },
      "source": [
        "By the gradient descent method, you need to move your next search point toward the left, at (x<sub>1</sub>, y<sub>1</sub>). By the same convention, you need to move your next search point  toward the right, at (x<sub>2</sub>, y<sub>2</sub>), until the gradient vectors' values of your search points are close to 0.   \n",
        "\n",
        "---\n",
        "\n",
        "#10. Update your code from #Question7 to encompass the multi-dimensional gradient descent methods using the gradient matrices. "
      ]
    },
    {
      "cell_type": "markdown",
      "metadata": {
        "id": "e40xrm3d2VKc",
        "colab_type": "text"
      },
      "source": [
        "\n",
        "\n",
        "---\n",
        "\n"
      ]
    },
    {
      "cell_type": "code",
      "metadata": {
        "id": "Pcu59Hpk_IYl",
        "colab_type": "code",
        "outputId": "17178524-30c9-4a70-bc1b-a1154bf5b607",
        "colab": {
          "base_uri": "https://localhost:8080/",
          "height": 204
        }
      },
      "source": [
        "#YOUR CODE OF QUESTION 10 SHOULD BE HERE \n",
        "\n",
        "from sympy import *\n",
        "from numpy import array\n",
        "\n",
        "n = int(input(\"n: \"))\n",
        "f = input(\"f: \")\n",
        "print()\n",
        "r = float(input(\"stepsize: \")) # r is stepsize\n",
        "tol = float(input(\"tolerance: \"))\n",
        "print()\n",
        "\n",
        "def gradient(f):\n",
        "  array = [0]*n\n",
        "  for i in range(n):\n",
        "    array[i] = diff(f,Symbol('x'+str(i+1)))\n",
        "  return array\n",
        "\n",
        "def GD(f,r): \n",
        "  A = [0]*n\n",
        "  B = [0]*n\n",
        "  for i in range(n):\n",
        "    A[i] = float(input(\"x\"+str(i+1)+\": \"))\n",
        "    B[i] = Symbol('x'+str(i+1))\n",
        "  print()\n",
        "\n",
        "  while True:\n",
        "    \n",
        "    cnt = 0\n",
        "\n",
        "    for j in range(n):\n",
        "      A[j] -= r * gradient(f)[j].subs(B[j],A[j])\n",
        "      if (abs(r*gradient(f)[j].subs(B[j],A[j])) < tol):\n",
        "        cnt += 1\n",
        "\n",
        "    if (cnt==n):\n",
        "      return A  \n",
        " \n",
        "print(GD(f,r))"
      ],
      "execution_count": 18,
      "outputs": [
        {
          "output_type": "stream",
          "text": [
            "n: 3\n",
            "f: (x1-2)**2 + (x2+1)**2 + (x3-1)**2\n",
            "\n",
            "stepsize: 0.1\n",
            "tolerance: 0.00001\n",
            "\n",
            "x1: 1\n",
            "x2: 0\n",
            "x3: 0\n",
            "\n",
            "[1.99995644385703, -0.999956443857034, 0.999956443857034]\n"
          ],
          "name": "stdout"
        }
      ]
    },
    {
      "cell_type": "markdown",
      "metadata": {
        "id": "DQF2akdY2XrF",
        "colab_type": "text"
      },
      "source": [
        "We can decompse a matrix using the following formula: \n",
        "Where ***A*** is a matrix (for example the answer from Question 9), ***Q*** is a matrix of eigenvectors that defines a change of basis, and ***&Lambda;*** is a matrix with eigenvalues on the diagonal that defines the same linear transformation as ***A*** in the base defined by ***Q***.\n",
        "\n",
        "Consider this matrix:\n",
        "\n",
        "$$A=\\begin{bmatrix}3 & 2\\\\1 & 0\\end{bmatrix}$$\n",
        "\n",
        "(note that you need to change this ***A*** into the answer from Question #9.) \n",
        "\n",
        "***Q*** is a matrix in which each column is an eigenvector of ***A***; which we can calculate using Python:"
      ]
    },
    {
      "cell_type": "code",
      "metadata": {
        "id": "4MDkQBoF9m77",
        "colab_type": "code",
        "colab": {}
      },
      "source": [
        "#Execute the following code"
      ],
      "execution_count": 0,
      "outputs": []
    },
    {
      "cell_type": "code",
      "metadata": {
        "id": "ITUwV4Rr9qTE",
        "colab_type": "code",
        "outputId": "0f13aac3-e215-4e8e-cb3c-464ae8c57e08",
        "colab": {
          "base_uri": "https://localhost:8080/",
          "height": 52
        }
      },
      "source": [
        "import numpy as np\n",
        "\n",
        "A = np.array([[3,2],\n",
        "              [1,0]])\n",
        "\n",
        "l, Q = np.linalg.eig(A)\n",
        "print(Q)"
      ],
      "execution_count": 0,
      "outputs": [
        {
          "output_type": "stream",
          "text": [
            "[[ 0.96276969 -0.48963374]\n",
            " [ 0.27032301  0.87192821]]\n"
          ],
          "name": "stdout"
        }
      ]
    },
    {
      "cell_type": "markdown",
      "metadata": {
        "id": "1kzjEB7i9uS7",
        "colab_type": "text"
      },
      "source": [
        "So for matrix ***A***, ***Q*** is the following matrix:\n",
        "\n",
        "$$Q=\\begin{bmatrix}0.96276969 & -0.48963374\\\\0.27032301 & 0.87192821\\end{bmatrix}$$\n",
        "\n",
        "***&Lambda;*** is a matrix that contains the eigenvalues for ***A*** on the diagonal, with zeros in all other elements; so for a 2x2 matrix, &Lambda; will look like this:\n",
        "\n",
        "$$\\Lambda=\\begin{bmatrix}\\lambda_{1} & 0\\\\0 & \\lambda_{2}\\end{bmatrix}$$\n",
        "\n",
        "In the Python code, the ***linalg.eig*** function to return the array of eigenvalues for ***A*** into the variable ***l***, so now we just need to format that as a matrix:"
      ]
    },
    {
      "cell_type": "code",
      "metadata": {
        "id": "lQ_hXNor9r7g",
        "colab_type": "code",
        "colab": {}
      },
      "source": [
        "#Execute the following code"
      ],
      "execution_count": 0,
      "outputs": []
    },
    {
      "cell_type": "code",
      "metadata": {
        "id": "V_jMwuz4-Eir",
        "colab_type": "code",
        "outputId": "65308006-a28e-42bf-8aab-f9c6b97c8da1",
        "colab": {
          "base_uri": "https://localhost:8080/",
          "height": 52
        }
      },
      "source": [
        "L = np.diag(l)\n",
        "print (L)"
      ],
      "execution_count": 0,
      "outputs": [
        {
          "output_type": "stream",
          "text": [
            "[[ 3.56155281  0.        ]\n",
            " [ 0.         -0.56155281]]\n"
          ],
          "name": "stdout"
        }
      ]
    },
    {
      "cell_type": "markdown",
      "metadata": {
        "id": "l_mjFwpq-Jdr",
        "colab_type": "text"
      },
      "source": [
        "So ***&Lambda;*** is the following matrix:\n",
        "\n",
        "$$\\Lambda=\\begin{bmatrix}3.56155281 & 0\\\\0 & -0.56155281\\end{bmatrix}$$\n",
        "\n",
        "Now we  need to find ***Q<sup>-1</sup>***, which is the inverse of ***Q***:"
      ]
    },
    {
      "cell_type": "code",
      "metadata": {
        "id": "r1CWO_h8-GHD",
        "colab_type": "code",
        "colab": {}
      },
      "source": [
        "#execute the following code "
      ],
      "execution_count": 0,
      "outputs": []
    },
    {
      "cell_type": "code",
      "metadata": {
        "id": "8FgH0HqT-Ry1",
        "colab_type": "code",
        "outputId": "cb72d53d-7d1f-4964-ab3c-03cf7a353ef8",
        "colab": {
          "base_uri": "https://localhost:8080/",
          "height": 52
        }
      },
      "source": [
        "Qinv = np.linalg.inv(Q)\n",
        "print(Qinv)"
      ],
      "execution_count": 0,
      "outputs": [
        {
          "output_type": "stream",
          "text": [
            "[[ 0.89720673  0.50382896]\n",
            " [-0.27816009  0.99068183]]\n"
          ],
          "name": "stdout"
        }
      ]
    },
    {
      "cell_type": "markdown",
      "metadata": {
        "id": "d6_sefWO-VUt",
        "colab_type": "text"
      },
      "source": [
        "The inverse of ***Q*** then, is:\n",
        "\n",
        "$$Q^{-1}=\\begin{bmatrix}0.89720673 & 0.50382896\\\\-0.27816009 & 0.99068183\\end{bmatrix}$$\n",
        "\n",
        "Now, we can decompose the transformation of *any* vector multiplied by matrix ***A*** into the separate operations ***Q&Lambda;Q<sup>-1</sup>***\n",
        "\n",
        "This is called as an eigendecomposition..."
      ]
    },
    {
      "cell_type": "markdown",
      "metadata": {
        "id": "BAiZhEtQ_SZn",
        "colab_type": "text"
      },
      "source": [
        "#11. Display ***A*** and the following eigendecomposition is equivalent \n",
        "$$Q \\Lambda Q^{-1} $$\n"
      ]
    },
    {
      "cell_type": "code",
      "metadata": {
        "id": "IyvqSrb_-SMf",
        "colab_type": "code",
        "outputId": "0014cdea-9e3f-4d93-cbc4-f54421dfcbcc",
        "colab": {
          "base_uri": "https://localhost:8080/",
          "height": 51
        }
      },
      "source": [
        "#Your code (or displaying result) should appear here. \n",
        "\n",
        "import numpy as np\n",
        "\n",
        "A = np.array([[2,6],\n",
        "              [-2,-6]])\n",
        "\n",
        "l, Q = np.linalg.eig(A)\n",
        "L = np.diag(l)\n",
        "Qinv = np.linalg.inv(Q)\n",
        "\n",
        "print(Q.dot(L).dot(Qinv))"
      ],
      "execution_count": 19,
      "outputs": [
        {
          "output_type": "stream",
          "text": [
            "[[ 2.  6.]\n",
            " [-2. -6.]]\n"
          ],
          "name": "stdout"
        }
      ]
    },
    {
      "cell_type": "markdown",
      "metadata": {
        "id": "CY784rwR_rG9",
        "colab_type": "text"
      },
      "source": [
        "\n",
        "\n",
        "---\n",
        "\n"
      ]
    },
    {
      "cell_type": "markdown",
      "metadata": {
        "id": "sLgcUNq9_yin",
        "colab_type": "text"
      },
      "source": [
        "In your later study (I reckon Year 3) with regard to Deep learning, you will revisit this eigendecomposition issue when you learn 'Regularization'. \n",
        "\n",
        "For example, your Hessian Matrix (in fact the following is the Hessian Matrix of Question #6) \n",
        "$$A=\\begin{bmatrix}2 & 0\\\\0 & 2\\end{bmatrix}$$\n",
        "\n",
        "Then, you apply the eigendecomposition of ***A***, resulting \n",
        "\n",
        "$$ H = Q \\Lambda Q^{-1} $$\n",
        "\n",
        "Then the ***H*** can be added up by an Identity matrix multiplied by a certain constant to a new Hessian Matrix, such as:\n",
        "\n",
        "$$H'=\\begin{bmatrix}h_{11}+\\alpha & 0\\\\0 & h_{22}+\\alpha\\end{bmatrix}$$\n",
        "\n",
        "The inverse of the new matrix ***H'*** would be used to along with your gradient descent method (from your question #10), to find the solution of the deep learning.  "
      ]
    },
    {
      "cell_type": "markdown",
      "metadata": {
        "id": "4zysaMkKBhSZ",
        "colab_type": "text"
      },
      "source": [
        "#12. First, write a Python program to make eigendecomposition,  then show how H can be converted into ***H'***, then finally find the inverse matrix of ***H'*** \n",
        "\n",
        "$$A=\\begin{bmatrix}2 & 0\\\\0 & 2\\end{bmatrix}$$\n",
        "\n"
      ]
    },
    {
      "cell_type": "markdown",
      "metadata": {
        "id": "lSumP3maEmWh",
        "colab_type": "text"
      },
      "source": [
        "\n",
        "\n",
        "---\n",
        "\n"
      ]
    },
    {
      "cell_type": "code",
      "metadata": {
        "id": "j9CqqnUtOfNB",
        "colab_type": "code",
        "outputId": "9990fe2c-214d-4f28-fefa-01371783dc66",
        "colab": {
          "base_uri": "https://localhost:8080/",
          "height": 1000
        }
      },
      "source": [
        "#Your code of Quesiton 12 should appear here\n",
        "# do not use the (built-in) inverse function of Python. I wish you to mae your own version of the inverse matrix implementation \n",
        "\n",
        "from sympy import *\n",
        "import numpy as np \n",
        "from io import StringIO\n",
        "\n",
        "a = Symbol('a')\n",
        "\n",
        "\n",
        "\n",
        "\n",
        "''' Input matrix '''\n",
        "\n",
        "print(\"##############################################\")\n",
        "print()\n",
        "print(\"size of the matrix\")\n",
        "n = int(input())\n",
        "print()\n",
        "\n",
        "print(\"making a matrix; you shoud hit enter whenever you finish inputting row values\")\n",
        "M = ''\n",
        "for i in range(n):\n",
        "  M += input()\n",
        "  M += '\\n'\n",
        "\n",
        "print()\n",
        "\n",
        "M = StringIO(M)\n",
        "M = np.loadtxt(M)\n",
        "print(\"given matrix, M\")\n",
        "print(M)\n",
        "print()\n",
        "\n",
        "\n",
        "\n",
        "\n",
        "''' eigendecomposition '''\n",
        "\n",
        "l, Q = np.linalg.eig(M)\n",
        "L = np.diag(l)\n",
        "Qinv = np.linalg.inv(Q)\n",
        "\n",
        "print(\"##############################################\")\n",
        "print()\n",
        "print(\"This following is eigendecomposition process\")\n",
        "print()\n",
        "print('Q')\n",
        "print(Q)\n",
        "print()\n",
        "print('L')\n",
        "print(L)\n",
        "print()\n",
        "print(\"Inverse matrix output of Q\")\n",
        "print(Qinv)\n",
        "print()\n",
        "print(\"------------------ showing equivalence -----------------\")\n",
        "print()\n",
        "print(\"given matrix\")\n",
        "print(M)\n",
        "print()\n",
        "print(\"after eigendecomposition, assembled matrix\")\n",
        "print(Q.dot(L).dot(Qinv))\n",
        "print()\n",
        "print(\"--------------------------------------------------------\")\n",
        "print()\n",
        "print(\"##############################################\")\n",
        "print()\n",
        "\n",
        "\n",
        "\n",
        "\n",
        "''' Identity matrix '''\n",
        "\n",
        "I = [1]\n",
        "\n",
        "for i in range(M.shape[0]-1):\n",
        "  I.append(0)\n",
        "\n",
        "for i in range(M.shape[0]-1):\n",
        "  tmp = [0]\n",
        "  for j in range(M.shape[0]-1):\n",
        "    if (i==j):\n",
        "      tmp.append(1)\n",
        "    else:\n",
        "      tmp.append(0)\n",
        "  I = np.vstack([I,tmp])\n",
        "\n",
        "\n",
        "\n",
        "\n",
        "''' Determinant'''\n",
        "\n",
        "def determinant(M):\n",
        "  if(M.shape[0]==1):\n",
        "    D = M[0]\n",
        "    return D\n",
        "\n",
        "  else:\n",
        "    D = 0\n",
        "    for i in range(M.shape[0]):\n",
        "      for k in range(1,M.shape[0]):\n",
        "        tmp = []\n",
        "        for j in range(M.shape[0]):\n",
        "          if (j!=i):\n",
        "            tmp.append(M[k][j])\n",
        "        tmp = np.array(tmp)\n",
        "        if (k==1):\n",
        "          ret = tmp\n",
        "        else:\n",
        "          ret = np.vstack([ret, tmp]) \n",
        "  \n",
        "      if (i%2 == 0):\n",
        "        D += M[0][i] * determinant(ret)\n",
        "      else:\n",
        "        D -= M[0][i] * determinant(ret)\n",
        "\n",
        "    return D\n",
        "\n",
        "\n",
        "\n",
        "\n",
        "''' Transpose matrix '''\n",
        "\n",
        "def Transpose(M):\n",
        "  M_transpose = []\n",
        "  for row in range(M.shape[1]):\n",
        "    M_transpose.append([0]*M.shape[0])\n",
        "\n",
        "  for i in range(M.shape[0]):\n",
        "    for j in range(M.shape[1]):\n",
        "      M_transpose[j][i] = M[i][j]\n",
        "  \n",
        "  M_transpose = np.array(M_transpose)\n",
        "\n",
        "  return M_transpose\n",
        "\n",
        "\n",
        "\n",
        "\n",
        "''' Inverse matrix '''\n",
        "\n",
        "def Inverse(M):\n",
        "  M_inv = []\n",
        "  for row in range(M.shape[0]):\n",
        "    M_inv.append([0]*M.shape[0])\n",
        "\n",
        "  for i in range(M.shape[0]):\n",
        "    A = 0\n",
        "    if (i==0):\n",
        "      for j in range(M.shape[0]):\n",
        "        \n",
        "        for k in range(1,M.shape[0]):\n",
        "          tmp = []\n",
        "          for l in range(M.shape[0]):\n",
        "            if (l!=j):\n",
        "              tmp.append(M[k][l])\n",
        "          tmp = np.array(tmp)\n",
        "        \n",
        "          if (k==1):\n",
        "            A = tmp\n",
        "          else:\n",
        "            A = np.vstack([A,tmp]) \n",
        "  \n",
        "        M_inv[i][j] = (-1)**(i+j) * determinant(A)\n",
        "\n",
        "    else:\n",
        "      for j in range(M.shape[0]):        \n",
        "        \n",
        "        for k in range(0,i):\n",
        "          tmp = []\n",
        "          for l in range(M.shape[0]):\n",
        "            if (l!=j):\n",
        "              tmp.append(M[k][l])\n",
        "      \n",
        "          tmp = np.array(tmp)\n",
        "          if (k==0):\n",
        "            A = tmp\n",
        "          else:\n",
        "            A = np.vstack([A,tmp])\n",
        "    \n",
        "        for k in range(i+1, M.shape[0]):\n",
        "          tmp = []\n",
        "          for l in range(M.shape[0]):\n",
        "            if (l!=j):\n",
        "              tmp.append(M[k][l])\n",
        "      \n",
        "          tmp = np.array(tmp)\n",
        "          A = np.vstack([A,tmp])\n",
        "    \n",
        "        M_inv[i][j] = (-1)**(i+j) * determinant(A)\n",
        "  \n",
        "  M_inv = np.array(M_inv)\n",
        "  return Transpose(M_inv) / determinant(M)\n",
        "\n",
        "M_modified = M + I * a\n",
        "\n",
        "\n",
        "\n",
        "\n",
        "print(\"determinanat of the given matrix\")\n",
        "print(determinant(M))\n",
        "print()\n",
        "print(\"Inverse of the given matrix\")\n",
        "print(Inverse(M))\n",
        "print()\n",
        "print(\"new matrix\")\n",
        "print(M_modified)\n",
        "print()\n",
        "print(\"determinant of the new matirx\")\n",
        "print(determinant(M_modified))\n",
        "print()\n",
        "print(\"Inverse of the new matrix\")\n",
        "print(Inverse(M_modified))\n",
        "print()\n",
        "print(\"##############################################\")"
      ],
      "execution_count": 30,
      "outputs": [
        {
          "output_type": "stream",
          "text": [
            "##############################################\n",
            "\n",
            "size of the matrix\n",
            "2\n",
            "\n",
            "making a matrix; you shoud hit enter whenever you finish inputting row values\n",
            "2 0\n",
            "0 2\n",
            "\n",
            "given matrix, M\n",
            "[[2. 0.]\n",
            " [0. 2.]]\n",
            "\n",
            "##############################################\n",
            "\n",
            "This following is eigendecomposition process\n",
            "\n",
            "Q\n",
            "[[1. 0.]\n",
            " [0. 1.]]\n",
            "\n",
            "L\n",
            "[[2. 0.]\n",
            " [0. 2.]]\n",
            "\n",
            "Inverse matrix output of Q\n",
            "[[1. 0.]\n",
            " [0. 1.]]\n",
            "\n",
            "------------------ showing equivalence -----------------\n",
            "\n",
            "given matrix\n",
            "[[2. 0.]\n",
            " [0. 2.]]\n",
            "\n",
            "after eigendecomposition, assembled matrix\n",
            "[[2. 0.]\n",
            " [0. 2.]]\n",
            "\n",
            "--------------------------------------------------------\n",
            "\n",
            "##############################################\n",
            "\n",
            "determinanat of the given matrix\n",
            "4.0\n",
            "\n",
            "Inverse of the given matrix\n",
            "[[ 0.5 -0. ]\n",
            " [-0.   0.5]]\n",
            "\n",
            "new matrix\n",
            "[[a + 2.0 0]\n",
            " [0 a + 2.0]]\n",
            "\n",
            "determinant of the new matirx\n",
            "(a + 2.0)**2\n",
            "\n",
            "Inverse of the new matrix\n",
            "[[1/(a + 2.0) 0]\n",
            " [0 1/(a + 2.0)]]\n",
            "\n",
            "##############################################\n"
          ],
          "name": "stdout"
        }
      ]
    },
    {
      "cell_type": "markdown",
      "metadata": {
        "id": "oeyObiswEnqT",
        "colab_type": "text"
      },
      "source": [
        "Statistics are based on data, which consist of a collection of pieces of information about things you want to study. This information can take the form of descriptions, quantities, measurements, and other observations. Typically, we work with related data items in a dataset, which often consists of a collection of observations or cases. Most commonly, we thing about this dataset as a table that consists of a row for each observation, and a column for each individual data point related to that observation - we variously call these data points attributes or features, and they each describe a specific characteristic of the thing we're observing.\n",
        "\n",
        "Let's take a look at a real example. In 1886, Francis Galton conducted a study into the relationship between heights of parents and their (adult) children. Run the Python code below to view the data he collected (you can safely ignore a deprecation warning if it is displayed):"
      ]
    },
    {
      "cell_type": "code",
      "metadata": {
        "id": "wR2WQr3lE-3a",
        "colab_type": "code",
        "colab": {}
      },
      "source": [
        "#Execute the following code ## 14. Write a Python code to create a bar chart showing family counts based on the number of children in the family. "
      ],
      "execution_count": 0,
      "outputs": []
    },
    {
      "cell_type": "code",
      "metadata": {
        "id": "HmvtC2rqFAuV",
        "colab_type": "code",
        "outputId": "82ac0c65-19a5-49ec-83ab-3e97c8024250",
        "colab": {
          "base_uri": "https://localhost:8080/",
          "height": 435
        }
      },
      "source": [
        "import statsmodels.api as sm\n",
        "\n",
        "df = sm.datasets.get_rdataset('GaltonFamilies', package='HistData').data\n",
        "df"
      ],
      "execution_count": 0,
      "outputs": [
        {
          "output_type": "stream",
          "text": [
            "/usr/local/lib/python3.6/dist-packages/statsmodels/tools/_testing.py:19: FutureWarning: pandas.util.testing is deprecated. Use the functions in the public API at pandas.testing instead.\n",
            "  import pandas.util.testing as tm\n"
          ],
          "name": "stderr"
        },
        {
          "output_type": "execute_result",
          "data": {
            "text/html": [
              "<div>\n",
              "<style scoped>\n",
              "    .dataframe tbody tr th:only-of-type {\n",
              "        vertical-align: middle;\n",
              "    }\n",
              "\n",
              "    .dataframe tbody tr th {\n",
              "        vertical-align: top;\n",
              "    }\n",
              "\n",
              "    .dataframe thead th {\n",
              "        text-align: right;\n",
              "    }\n",
              "</style>\n",
              "<table border=\"1\" class=\"dataframe\">\n",
              "  <thead>\n",
              "    <tr style=\"text-align: right;\">\n",
              "      <th></th>\n",
              "      <th>family</th>\n",
              "      <th>father</th>\n",
              "      <th>mother</th>\n",
              "      <th>midparentHeight</th>\n",
              "      <th>children</th>\n",
              "      <th>childNum</th>\n",
              "      <th>gender</th>\n",
              "      <th>childHeight</th>\n",
              "    </tr>\n",
              "  </thead>\n",
              "  <tbody>\n",
              "    <tr>\n",
              "      <th>0</th>\n",
              "      <td>001</td>\n",
              "      <td>78.5</td>\n",
              "      <td>67.0</td>\n",
              "      <td>75.43</td>\n",
              "      <td>4</td>\n",
              "      <td>1</td>\n",
              "      <td>male</td>\n",
              "      <td>73.2</td>\n",
              "    </tr>\n",
              "    <tr>\n",
              "      <th>1</th>\n",
              "      <td>001</td>\n",
              "      <td>78.5</td>\n",
              "      <td>67.0</td>\n",
              "      <td>75.43</td>\n",
              "      <td>4</td>\n",
              "      <td>2</td>\n",
              "      <td>female</td>\n",
              "      <td>69.2</td>\n",
              "    </tr>\n",
              "    <tr>\n",
              "      <th>2</th>\n",
              "      <td>001</td>\n",
              "      <td>78.5</td>\n",
              "      <td>67.0</td>\n",
              "      <td>75.43</td>\n",
              "      <td>4</td>\n",
              "      <td>3</td>\n",
              "      <td>female</td>\n",
              "      <td>69.0</td>\n",
              "    </tr>\n",
              "    <tr>\n",
              "      <th>3</th>\n",
              "      <td>001</td>\n",
              "      <td>78.5</td>\n",
              "      <td>67.0</td>\n",
              "      <td>75.43</td>\n",
              "      <td>4</td>\n",
              "      <td>4</td>\n",
              "      <td>female</td>\n",
              "      <td>69.0</td>\n",
              "    </tr>\n",
              "    <tr>\n",
              "      <th>4</th>\n",
              "      <td>002</td>\n",
              "      <td>75.5</td>\n",
              "      <td>66.5</td>\n",
              "      <td>73.66</td>\n",
              "      <td>4</td>\n",
              "      <td>1</td>\n",
              "      <td>male</td>\n",
              "      <td>73.5</td>\n",
              "    </tr>\n",
              "    <tr>\n",
              "      <th>...</th>\n",
              "      <td>...</td>\n",
              "      <td>...</td>\n",
              "      <td>...</td>\n",
              "      <td>...</td>\n",
              "      <td>...</td>\n",
              "      <td>...</td>\n",
              "      <td>...</td>\n",
              "      <td>...</td>\n",
              "    </tr>\n",
              "    <tr>\n",
              "      <th>929</th>\n",
              "      <td>203</td>\n",
              "      <td>62.0</td>\n",
              "      <td>66.0</td>\n",
              "      <td>66.64</td>\n",
              "      <td>3</td>\n",
              "      <td>1</td>\n",
              "      <td>male</td>\n",
              "      <td>64.0</td>\n",
              "    </tr>\n",
              "    <tr>\n",
              "      <th>930</th>\n",
              "      <td>203</td>\n",
              "      <td>62.0</td>\n",
              "      <td>66.0</td>\n",
              "      <td>66.64</td>\n",
              "      <td>3</td>\n",
              "      <td>2</td>\n",
              "      <td>female</td>\n",
              "      <td>62.0</td>\n",
              "    </tr>\n",
              "    <tr>\n",
              "      <th>931</th>\n",
              "      <td>203</td>\n",
              "      <td>62.0</td>\n",
              "      <td>66.0</td>\n",
              "      <td>66.64</td>\n",
              "      <td>3</td>\n",
              "      <td>3</td>\n",
              "      <td>female</td>\n",
              "      <td>61.0</td>\n",
              "    </tr>\n",
              "    <tr>\n",
              "      <th>932</th>\n",
              "      <td>204</td>\n",
              "      <td>62.5</td>\n",
              "      <td>63.0</td>\n",
              "      <td>65.27</td>\n",
              "      <td>2</td>\n",
              "      <td>1</td>\n",
              "      <td>male</td>\n",
              "      <td>66.5</td>\n",
              "    </tr>\n",
              "    <tr>\n",
              "      <th>933</th>\n",
              "      <td>204</td>\n",
              "      <td>62.5</td>\n",
              "      <td>63.0</td>\n",
              "      <td>65.27</td>\n",
              "      <td>2</td>\n",
              "      <td>2</td>\n",
              "      <td>female</td>\n",
              "      <td>57.0</td>\n",
              "    </tr>\n",
              "  </tbody>\n",
              "</table>\n",
              "<p>934 rows × 8 columns</p>\n",
              "</div>"
            ],
            "text/plain": [
              "    family  father  mother  ...  childNum  gender  childHeight\n",
              "0      001    78.5    67.0  ...         1    male         73.2\n",
              "1      001    78.5    67.0  ...         2  female         69.2\n",
              "2      001    78.5    67.0  ...         3  female         69.0\n",
              "3      001    78.5    67.0  ...         4  female         69.0\n",
              "4      002    75.5    66.5  ...         1    male         73.5\n",
              "..     ...     ...     ...  ...       ...     ...          ...\n",
              "929    203    62.0    66.0  ...         1    male         64.0\n",
              "930    203    62.0    66.0  ...         2  female         62.0\n",
              "931    203    62.0    66.0  ...         3  female         61.0\n",
              "932    204    62.5    63.0  ...         1    male         66.5\n",
              "933    204    62.5    63.0  ...         2  female         57.0\n",
              "\n",
              "[934 rows x 8 columns]"
            ]
          },
          "metadata": {
            "tags": []
          },
          "execution_count": 2
        }
      ]
    },
    {
      "cell_type": "markdown",
      "metadata": {
        "id": "VoZJfOKOFI9U",
        "colab_type": "text"
      },
      "source": [
        "### Types of Data\n",
        "Now, let's take a closer look at this data.  There are 933 observations, each one recording information pertaining to an individual child. The information recorded consists of the following features:\n",
        "- **family**: An identifier for the family to which the child belongs.\n",
        "- **father**: The height of the father.\n",
        "- **mother**: The height of the mother.\n",
        "- **midparentHeight**: The mid-point between the father and mother's heights (calculated as *(father + 1.08 x mother) &div; 2*)\n",
        "- **children**: The total number of children in the family.\n",
        "- **childNum**: The number of the child to whom this observation pertains (Galton numbered the children in desending order of height, with male children listed before female children)\n",
        "- **gender**: The gender of the child to whom this observation pertains.\n",
        "- **childHeight**: The height of the child to whom this observation pertains.\n",
        "\n",
        "It's worth noting that there are several distinct types of data recorded here. To begin with, there are some features that represent *qualities*, or characteristics of the child - for example, gender. Other feaures represent a *quantity* or measurement, such as the child's height. So broadly speaking, we can divide data into *qualitative* and *quantitative* data.\n",
        "\n",
        "#### Qualitative Data\n",
        "Let's take a look at qualitative data first. This type of data is categorical - it is used to categorize or identify the entity being observed. Sometimes you'll see features of this type described as *factors*. \n",
        "##### Nominal Data\n",
        "In his observations of children's height, Galton assigned an identifier to each family and he recorded the gender of each child. Note that even though the **family** identifier is a number, it is not a measurement or quantity. Family 002 it not \"greater\" than family 001, just as a **gender** value of \"male\" does not indicate a larger or smaller value than \"female\". These are simply named values for some characteristic of the child, and as such they're known as *nominal* data.\n",
        "##### Ordinal Data\n",
        "What about the **childNum** feature? It's not a measurement or quantity - it's just a way to identify individual children within a family. However, the number assigned to each child has some additional meaning - the numbers are ordered. You can find similar data that is text-based; for example, data about training courses might include a \"level\" attribute that indicates the level of the course as \"basic:, \"intermediate\", or \"advanced\". This type of data, where the value is not itself a quantity or measurement, but it indicates some sort of inherent order or heirarchy, is known as *ordinal* data.\n",
        "#### Quantitative Data\n",
        "There are some kind of quantity or measurement: \n",
        "##### Discrete Data\n",
        "Galton's observations include the number of **children** in each family. This is a *discrete* quantative data value - it's something we *count* rather than *measure*. You can't, for example, have 2.33 children!\n",
        "##### Continuous Data\n",
        "The data set also includes height values for **father**, **mother**, **midparentHeight**, and **childHeight**. These are measurements along a scale, and as such they're described as *continuous* quantative data values that we *measure* rather than *count*.\n",
        "\n",
        "### Sample vs Population\n",
        "Galton's dataset includes 933 observations. It's safe to assume that this does not account for every person in the world, or even just the UK, in 1886 when the data was collected. In other words, Galton's data represents a *sample* of a larger *population*. It's worth pausing to think about this for a few seconds, because there are some implications for any conclusions we might draw from Galton's observations.\n",
        "\n",
        "Think about how many times you see a claim such as \"one in four Americans enjoys watching football\". How do the people who make this claim know that this is a fact? Have they asked everyone in the the US about their football-watching habits? Well, that would be a bit impractical, so what usually happens is that a study is conducted on a subset of the population, and (assuming that this is a well-conducted study), that subset will be a representative sample of the population as a whole. If the survey was conducted at the stadium where the Superbowl is being played, then the results are likely to be skewed because of a bias in the study participants.\n",
        "\n",
        "Similarly, we might look at Galton's data and assume that the heights of the people included in the study bears some relation to the heights of the general population in 1886; but if Galton specifically selected abnormally tall people for his study, then this assumption would be unfounded.\n",
        "\n",
        "When we deal with statistics, we usually work with a sample of the data rather than a full population. "
      ]
    },
    {
      "cell_type": "markdown",
      "metadata": {
        "id": "YYk8k8q_Gdht",
        "colab_type": "text"
      },
      "source": [
        "#13. Write a Python code to create a bar chart showing the number of children of each gender "
      ]
    },
    {
      "cell_type": "code",
      "metadata": {
        "id": "JVoSddixGqcK",
        "colab_type": "code",
        "outputId": "475424dd-71bb-45fe-cb38-48680b428ce2",
        "colab": {
          "base_uri": "https://localhost:8080/",
          "height": 284
        }
      },
      "source": [
        "#Your code of Quesiton 13 should appear here\n",
        "\n",
        "L = list(df['gender'])\n",
        "male = L.count('male')\n",
        "female = L.count('female')\n",
        "x = [1,2]\n",
        "y = [male, female]\n",
        "\n",
        "xlabel = ['male', 'female']\n",
        "plt.xticks(x,xlabel)\n",
        "plt.bar(x,y)\n",
        "plt.annotate('{}'.format(male), (1, male))\n",
        "plt.annotate('{}'.format(female), (2, female))"
      ],
      "execution_count": 0,
      "outputs": [
        {
          "output_type": "execute_result",
          "data": {
            "text/plain": [
              "Text(2, 453, '453')"
            ]
          },
          "metadata": {
            "tags": []
          },
          "execution_count": 21
        },
        {
          "output_type": "display_data",
          "data": {
            "image/png": "[encoded data removed]",
            "text/plain": [
              "<Figure size 432x288 with 1 Axes>"
            ]
          },
          "metadata": {
            "tags": [],
            "needs_background": "light"
          }
        }
      ]
    },
    {
      "cell_type": "markdown",
      "metadata": {
        "id": "_VZ-bfclGxXk",
        "colab_type": "text"
      },
      "source": [
        "\n",
        "\n"
      ]
    },
    {
      "cell_type": "markdown",
      "metadata": {
        "id": "y1hnGGn-GzL6",
        "colab_type": "text"
      },
      "source": [
        "## 14. Write a Python code to create a bar chart showing family counts based on the number of children in the family. "
      ]
    },
    {
      "cell_type": "code",
      "metadata": {
        "id": "VVkg8tWsHROr",
        "colab_type": "code",
        "outputId": "5c3b66b2-e487-455e-9656-d70b6990a618",
        "colab": {
          "base_uri": "https://localhost:8080/",
          "height": 279
        }
      },
      "source": [
        "#Your code of question 14 should appear here\n",
        "\n",
        "import statsmodels.api as sm\n",
        "import matplotlib.pyplot as plt\n",
        "\n",
        "df = sm.datasets.get_rdataset('GaltonFamilies', package='HistData').data\n",
        "\n",
        "L1 = list(df[\"family\"])\n",
        "L2 = list(df[\"children\"])\n",
        "chk = []\n",
        "new_L1 = []\n",
        "new_L2 = []\n",
        "for i in range(len(L1)):\n",
        "  if L1[i] not in chk:\n",
        "    new_L1.append(L1[i])\n",
        "    new_L2.append(L2[i])\n",
        "  chk.append(L1[i])\n",
        "\n",
        "x = list(set(new_L2))\n",
        "y = [] \n",
        "for i in x:\n",
        "  y.append(new_L2.count(i))\n",
        "\n",
        "xlabel = x\n",
        "plt.xticks(x,xlabel)\n",
        "plt.bar(x,y)\n",
        "plt.xlabel('The Number of Children')\n",
        "plt.ylabel('The Number of Families')\n",
        "\n",
        "for i in range(len(x)):\n",
        "  plt.annotate(str(y[i]), (x[i]-0.2,y[i]))"
      ],
      "execution_count": 0,
      "outputs": [
        {
          "output_type": "display_data",
          "data": {
            "image/png": "[encoded data removed]",
            "text/plain": [
              "<Figure size 432x288 with 1 Axes>"
            ]
          },
          "metadata": {
            "tags": [],
            "needs_background": "light"
          }
        }
      ]
    },
    {
      "cell_type": "markdown",
      "metadata": {
        "id": "5nXnk18uufnO",
        "colab_type": "text"
      },
      "source": [
        "##15. Write a Python code to create a histogram of the father values in the Galton dataset, which record the father's height"
      ]
    },
    {
      "cell_type": "code",
      "metadata": {
        "id": "UPomkVpAFBvl",
        "colab_type": "code",
        "outputId": "d6cbf0b8-fd3e-4bed-83d1-d60aed8c4d0d",
        "colab": {
          "base_uri": "https://localhost:8080/",
          "height": 265
        }
      },
      "source": [
        "#Your code of question 15 should appear here \n",
        "\n",
        "import numpy as np\n",
        "import pandas as pd\n",
        "import matplotlib.pyplot as plt\n",
        "\n",
        "new_df = df.drop_duplicates([\"family\"])\n",
        "plt.hist(new_df['father'])\n",
        "plt.show()"
      ],
      "execution_count": 0,
      "outputs": [
        {
          "output_type": "display_data",
          "data": {
            "image/png": "[encoded data removed]",
            "text/plain": [
              "<Figure size 432x288 with 1 Axes>"
            ]
          },
          "metadata": {
            "tags": [],
            "needs_background": "light"
          }
        }
      ]
    },
    {
      "cell_type": "markdown",
      "metadata": {
        "id": "9_VF6L0lHYXT",
        "colab_type": "text"
      },
      "source": [
        "##16. Write a Python code creates a scatter plot that plots the intersection \n",
        "\n",
        "\n",
        "points for midparentHeight on the x axis and childHeight on the y axis"
      ]
    },
    {
      "cell_type": "code",
      "metadata": {
        "id": "XJseX2XzHszf",
        "colab_type": "code",
        "outputId": "af28dc59-c13f-441f-9402-a393cb57c5b9",
        "colab": {
          "base_uri": "https://localhost:8080/",
          "height": 295
        }
      },
      "source": [
        "#your code of Question 16 should appear here \n",
        "\n",
        "import matplotlib.pyplot as plt\n",
        "import numpy as np\n",
        "\n",
        "X = list(df['midparentHeight'])\n",
        "Y = list(df['childHeight'])\n",
        "\n",
        "scatter = plt.scatter(X, Y, s=10)\n",
        "\n",
        "plt.title('scatter')\n",
        "plt.xlabel('X axis')\n",
        "plt.ylabel('Y axis')\n",
        "plt.show()"
      ],
      "execution_count": 0,
      "outputs": [
        {
          "output_type": "display_data",
          "data": {
            "image/png": "[encoded data removed]",
            "text/plain": [
              "<Figure size 432x288 with 1 Axes>"
            ]
          },
          "metadata": {
            "tags": [],
            "needs_background": "light"
          }
        }
      ]
    },
    {
      "cell_type": "markdown",
      "metadata": {
        "id": "tCBMncOYHwVY",
        "colab_type": "text"
      },
      "source": [
        "\n",
        "\n",
        "---\n",
        "\n"
      ]
    },
    {
      "cell_type": "markdown",
      "metadata": {
        "id": "hwpoqVI0Iys_",
        "colab_type": "text"
      },
      "source": [
        "# Probability\n",
        "Many of the problems we try to solve using statistics are to do with *probability*. For example, what's the probable salary for a Data Science graduate who scored a given score in their final exam at school? \n",
        "\n",
        "\n",
        "## Probability Basics\n",
        "There are some basic definitions and principles.\n",
        "- An ***experiment*** or ***trial*** is an action with an uncertain outcome, such as tossing a coin.\n",
        "- A ***sample space*** is the set of all possible outcomes of an experiment. In a coin toss, there's a set of two possible oucomes (*heads* and *tails*).\n",
        "- A ***sample point*** is a single possible outcome - for example, *heads*)\n",
        "- An ***event*** is a specific outome of single instance of an experiment - for example, tossing a coin and getting *tails*.\n",
        "- ***Probability*** is a value between 0 and 1 that indicates the likelihood of a particular event, with 0 meaning that the event is impossible, and 1 meaning that the event is inevitable. In general terms, it's calculated like this:\n",
        "\n",
        "\\begin{equation}\\text{probability of an event} = \\frac{\\text{Number of sample points that produce the event}}{\\text{Total number of sample points in the sample space}} \\end{equation}\n",
        "\n",
        "For example, the probability of getting *heads* when tossing as coin is <sup>1</sup>/<sub>2</sub> - there is only one side of the coin that is designated *heads*. and there are two possible outcomes in the sample space (*heads* and *tails*). So the probability of getting *heads* in a single coin toss is 0.5 (or 50% when expressed as a percentage).\n",
        "\n",
        "### The Complement of an Event\n",
        "The *complement* of an event is the set of *sample points* that do ***not*** result in the event.\n",
        "\n",
        "For example, suppose your local weather forecaster indicates the predominant weather for each day of the week like this:\n",
        "\n",
        "<table>\n",
        "<tr><td style='text-align:center'>Mon</td><td style='text-align:center'>Tue</td><td style='text-align:center'>Wed</td><td style='text-align:center'>Thu</td><td style='text-align:center'>Fri</td><td style='text-align:center'>Sat</td><td style='text-align:center'>Sun</td></tr>\n",
        "<tr style='font-size:32px'><td>&#9729;</td><td>&#9730;</td><td>&#9728;</td><td>&#9728;</td><td>&#9728;</td><td>&#9729;</td><td>&#9728;</td></tr>\n",
        "</table>\n",
        "\n",
        "If you would like to find the probability of \"Not Sunny days, you should find the probability of \"Sunny days\" first and the applies the following complement of event,  \n",
        "\n",
        "\\begin{equation}P(A) = 1 - P(A') \\end{equation}\n",
        ", which results in\n",
        "\\begin{equation}P(A') = 1- P(A) = 1 - (4/7) chance of it not being sunny!"
      ]
    },
    {
      "cell_type": "markdown",
      "metadata": {
        "id": "t_6TeOsZI7K6",
        "colab_type": "text"
      },
      "source": [
        "## Conditional Probability and Dependence\n",
        "Events can be:\n",
        "- *Independent* (events that are not affected by other events)\n",
        "- *Dependent* (events that are conditional on other events)\n",
        "- *Mutually Exclusive* (events that can't occur together)\n",
        "\n",
        "### Independent Events\n",
        "Imagine you toss a coin. The sample space contains two possible outomes: heads or tails. \n",
        "The probability of getting *heads* is <sup>1</sup>/<sub>2</sub>, and the probability of getting *tails* is also <sup>1</sup>/<sub>2</sub>. \n",
        "\n",
        "Run the following Python code to simulate 10,000 coin tosses by assigning a random value of 0 or 1 to *heads* and *tails*. Each time the coin is tossed, the probability of getting *heads* or *tails* is 50%, so you should expect approximately half of the results to be *heads* and half to be *tails* (it won't be exactly half, due to a little random variation; but it should be close):"
      ]
    },
    {
      "cell_type": "code",
      "metadata": {
        "id": "Pkla8oSgLD2k",
        "colab_type": "code",
        "outputId": "462029c5-4717-4546-c0d5-4357d6f00eb6",
        "colab": {
          "base_uri": "https://localhost:8080/",
          "height": 320
        }
      },
      "source": [
        "%matplotlib inline\n",
        "import random\n",
        "\n",
        "# Create a list with 2 element (for heads and tails)\n",
        "heads_tails = [0,0]\n",
        "\n",
        "# loop through 10000 trials\n",
        "trials = 10000\n",
        "trial = 0\n",
        "while trial < trials:\n",
        "    trial = trial + 1\n",
        "    # Get a random 0 or 1\n",
        "    toss = random.randint(0,1)\n",
        "    # Increment the list element corresponding to the toss result\n",
        "    heads_tails[toss] = heads_tails[toss] + 1\n",
        "\n",
        "print (heads_tails)\n",
        "\n",
        "# Show a pie chart of the results\n",
        "from matplotlib import pyplot as plt\n",
        "plt.figure(figsize=(5,5))\n",
        "plt.pie(heads_tails, labels=['heads', 'tails'])\n",
        "plt.legend()\n",
        "plt.show()"
      ],
      "execution_count": 0,
      "outputs": [
        {
          "output_type": "stream",
          "text": [
            "[4986, 5014]\n"
          ],
          "name": "stdout"
        },
        {
          "output_type": "display_data",
          "data": {
            "image/png": "[encoded data removed]",
            "text/plain": [
              "<Figure size 360x360 with 1 Axes>"
            ]
          },
          "metadata": {
            "tags": []
          }
        }
      ]
    },
    {
      "cell_type": "markdown",
      "metadata": {
        "id": "KN9ZMjMJLdsO",
        "colab_type": "text"
      },
      "source": [
        "Now, imagine that you need to create a new game that mixes the excitment of coin-tossing with the thrill of die-rolling! The objective of the game is to roll a die and get 6, and toss a coin and get heads. On each turn of the game, a player rolls the die and tosses the coin, in sequence (in a row). \n",
        "\n",
        "###How can we calculate the probability of winning?\n",
        "\n",
        "There are two independent events required to win: a die-roll of *6* (which we'll call event **A**), and a coin-toss of *heads* (which we'll call event **B**)\n",
        "\n",
        "Our formula for combined independent events is:\n",
        "\n",
        "\\begin{equation}P(A \\cap B) = P(A) \\times P(B) \\end{equation}\n",
        "\n",
        "The probablilty of rolling a *6* on a fair die is <sup>1</sup>/<sub>6</sub> or 0.167;  and the probability of tossing a coin and getting *heads* is <sup>1</sup>/<sub>2</sub> or 0.5:\n",
        "\n",
        "\\begin{equation}P(A \\cap B) = 0.167 \\times 0.5 = 0.083 \\end{equation}\n",
        "\n",
        "So on each turn, there's an 8.3% chance to win the game."
      ]
    },
    {
      "cell_type": "markdown",
      "metadata": {
        "id": "45rRFyh7MJbs",
        "colab_type": "text"
      },
      "source": [
        "#17. Write a Python code that calculates when you know you get 6 from your first rolling-dice, how much you would increase your winning probability from 0.083"
      ]
    },
    {
      "cell_type": "code",
      "metadata": {
        "id": "6VU3R92gLFwY",
        "colab_type": "code",
        "outputId": "e782a968-dc15-4fd4-e7e6-5e57201b1635",
        "colab": {
          "base_uri": "https://localhost:8080/",
          "height": 136
        }
      },
      "source": [
        "#Your code should appear here. \n",
        "# 0.083 -> 0.5 (your result should return 0.417)\n",
        "\n",
        "import random as rd\n",
        "\n",
        "n = int(input(\"trial= \"))\n",
        "print()\n",
        "\n",
        "# dice\n",
        "cnt = 0\n",
        "for i in range(n):\n",
        "  x = rd.randint(1,6)\n",
        "  if (x==6):\n",
        "    cnt += 1\n",
        "\n",
        "P_A = cnt/n\n",
        "\n",
        "# coin\n",
        "cnt = 0\n",
        "for i in range(n):\n",
        "  x = rd.randint(0,1)\n",
        "  if (x==1):\n",
        "    cnt += 1\n",
        "\n",
        "P_B = cnt/n\n",
        "\n",
        "\n",
        "P_intersection = P_A*P_B  \n",
        "P_conditional = round(P_intersection/P_A, 1)\n",
        "gap = round(P_conditional-round(P_intersection,3), 3)\n",
        "\n",
        "print(\"P(A)=\", round(P_A,3))\n",
        "print(\"P(B)=\", round(P_B,1))\n",
        "print(\"P(A∩B)=\", round(P_intersection,3))\n",
        "print(\"P(A|B)=P(A∩B)/P(A)=\", P_conditional)\n",
        "print(gap)"
      ],
      "execution_count": 25,
      "outputs": [
        {
          "output_type": "stream",
          "text": [
            "trial= 1000000\n",
            "\n",
            "P(A)= 0.167\n",
            "P(B)= 0.5\n",
            "P(A∩B)= 0.083\n",
            "P(A|B)=P(A∩B)/P(A)= 0.5\n",
            "0.417\n"
          ],
          "name": "stdout"
        }
      ]
    },
    {
      "cell_type": "markdown",
      "metadata": {
        "id": "KTwdbWWPNhv7",
        "colab_type": "text"
      },
      "source": [
        "\n",
        "\n",
        "---\n",
        "\n"
      ]
    },
    {
      "cell_type": "markdown",
      "metadata": {
        "id": "uON9ba27NjOK",
        "colab_type": "text"
      },
      "source": [
        "As the final question, the following table contains the different age group peoples who have defaulted and not defaulted on Loans: \n",
        "![Table1](https://miro.medium.com/max/1400/0*L4XpVZ-5jaHBrl3p.png)\n",
        "\n",
        "#18-1. Write a Python code to calculate the probability that a person will not default on the loan given s/he is middle aged? \n",
        "\n",
        "#18-2. Write a Python code to calculate the probability that a person is middle-aged given s/he has not defaulted on the loan? "
      ]
    },
    {
      "cell_type": "code",
      "metadata": {
        "id": "J5tt7B38Idrd",
        "colab_type": "code",
        "outputId": "98d13d8b-9324-4f9c-ba75-5649513ff341",
        "colab": {
          "base_uri": "https://localhost:8080/",
          "height": 106
        }
      },
      "source": [
        "#Your code of 18-1 should appear here\n",
        "\n",
        "import pandas as pd\n",
        "\n",
        "columns = [\"Young\", \"Middle-Aged\", \"Senior Citizens\"]\n",
        "index = [\"No\", \"Yes\"]\n",
        "content = [[10503, 27368, 259], [3586, 4851, 120]]\n",
        "DF = pd.DataFrame(content, columns = columns, index = index)\n",
        "print(DF)\n",
        "print()\n",
        "\n",
        "Tot = sum(list(DF[\"Middle-Aged\"]))\n",
        "target = DF.loc[\"No\", \"Middle-Aged\"]\n",
        "\n",
        "print(target/Tot)"
      ],
      "execution_count": 0,
      "outputs": [
        {
          "output_type": "stream",
          "text": [
            "     Young  Middle-Aged  Senior Citizens\n",
            "No   10503        27368              259\n",
            "Yes   3586         4851              120\n",
            "\n",
            "0.8494366678047115\n"
          ],
          "name": "stdout"
        }
      ]
    },
    {
      "cell_type": "code",
      "metadata": {
        "id": "Tr3GF9alKGiu",
        "colab_type": "code",
        "outputId": "dad5d3c7-bab3-47d3-9341-33c2c8ac2653",
        "colab": {
          "base_uri": "https://localhost:8080/",
          "height": 106
        }
      },
      "source": [
        "#Your code of 18-2 should appear here\n",
        "\n",
        "import pandas as pd\n",
        "\n",
        "columns = [\"Young\", \"Middle-Aged\", \"Senior Citizens\"]\n",
        "index = [\"No\", \"Yes\"]\n",
        "content = [[10503, 27368, 259], [3586, 4851, 120]]\n",
        "DF = pd.DataFrame(content, columns = columns, index = index)\n",
        "print(DF)\n",
        "print()\n",
        "\n",
        "Loan_Default_No = sum(list(DF.loc[\"No\", : ]))\n",
        "target = DF.loc[\"No\", \"Middle-Aged\"]\n",
        "print(target/Loan_Default_No)"
      ],
      "execution_count": 0,
      "outputs": [
        {
          "output_type": "stream",
          "text": [
            "     Young  Middle-Aged  Senior Citizens\n",
            "No   10503        27368              259\n",
            "Yes   3586         4851              120\n",
            "\n",
            "0.7177550485182271\n"
          ],
          "name": "stdout"
        }
      ]
    }
  ]
}